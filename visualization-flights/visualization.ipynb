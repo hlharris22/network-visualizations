{
 "cells": [
  {
   "cell_type": "markdown",
   "metadata": {
    "collapsed": true,
    "pycharm": {
     "name": "#%% md\n"
    }
   },
   "source": [
    "Data Visualization and Exploration\n",
    "CPSC 5530\n",
    "CRN 21428\n",
    "Hunter Harris: zgt795\n",
    "Assignment 4: Network & Tree Visualization 3"
   ]
  },
  {
   "cell_type": "markdown",
   "metadata": {
    "pycharm": {
     "name": "#%% md\n"
    }
   },
   "source": [
    "Import Libraries"
   ]
  },
  {
   "cell_type": "code",
   "execution_count": 328,
   "metadata": {
    "pycharm": {
     "name": "#%%\n"
    }
   },
   "outputs": [],
   "source": [
    "import pandas as pd\n",
    "from mpl_toolkits.basemap import Basemap\n",
    "import matplotlib.pyplot as plt\n",
    "from matplotlib.patches import Polygon\n",
    "from sklearn.preprocessing import MinMaxScaler"
   ]
  },
  {
   "cell_type": "markdown",
   "metadata": {},
   "source": [
    "Read Data"
   ]
  },
  {
   "cell_type": "code",
   "execution_count": 329,
   "metadata": {
    "pycharm": {
     "name": "#%%\n"
    }
   },
   "outputs": [
    {
     "name": "stderr",
     "output_type": "stream",
     "text": [
      "/home/hunter/anaconda3/envs/data/lib/python3.10/site-packages/IPython/core/interactiveshell.py:3457: DtypeWarning: Columns (7,8) have mixed types.Specify dtype option on import or set low_memory=False.\n",
      "  exec(code_obj, self.user_global_ns, self.user_ns)\n"
     ]
    }
   ],
   "source": [
    "# https://www.kaggle.com/datasets/usdot/flight-delays?select=flights.csv\n",
    "airports_df = pd.read_csv(\"airports.csv\")\n",
    "flights_df = pd.read_csv(\"flights.csv\")"
   ]
  },
  {
   "cell_type": "markdown",
   "source": [
    "Inspect Data"
   ],
   "metadata": {
    "collapsed": false
   }
  },
  {
   "cell_type": "code",
   "execution_count": 330,
   "outputs": [
    {
     "name": "stdout",
     "output_type": "stream",
     "text": [
      "    IATA_CODE                              AIRPORT  \\\n",
      "0         ABE  Lehigh Valley International Airport   \n",
      "1         ABI             Abilene Regional Airport   \n",
      "2         ABQ    Albuquerque International Sunport   \n",
      "3         ABR            Aberdeen Regional Airport   \n",
      "4         ABY   Southwest Georgia Regional Airport   \n",
      "..        ...                                  ...   \n",
      "317       WRG                     Wrangell Airport   \n",
      "318       WYS               Westerly State Airport   \n",
      "319       XNA  Northwest Arkansas Regional Airport   \n",
      "320       YAK                      Yakutat Airport   \n",
      "321       YUM           Yuma International Airport   \n",
      "\n",
      "                               CITY STATE COUNTRY  LATITUDE  LONGITUDE  \n",
      "0                         Allentown    PA     USA  40.65236  -75.44040  \n",
      "1                           Abilene    TX     USA  32.41132  -99.68190  \n",
      "2                       Albuquerque    NM     USA  35.04022 -106.60919  \n",
      "3                          Aberdeen    SD     USA  45.44906  -98.42183  \n",
      "4                            Albany    GA     USA  31.53552  -84.19447  \n",
      "..                              ...   ...     ...       ...        ...  \n",
      "317                        Wrangell    AK     USA  56.48433 -132.36982  \n",
      "318                West Yellowstone    MT     USA  44.68840 -111.11764  \n",
      "319  Fayetteville/Springdale/Rogers    AR     USA  36.28187  -94.30681  \n",
      "320                         Yakutat    AK     USA  59.50336 -139.66023  \n",
      "321                            Yuma    AZ     USA  32.65658 -114.60597  \n",
      "\n",
      "[322 rows x 7 columns]\n",
      "<class 'pandas.core.frame.DataFrame'>\n",
      "RangeIndex: 5819079 entries, 0 to 5819078\n",
      "Data columns (total 31 columns):\n",
      " #   Column               Dtype  \n",
      "---  ------               -----  \n",
      " 0   YEAR                 int64  \n",
      " 1   MONTH                int64  \n",
      " 2   DAY                  int64  \n",
      " 3   DAY_OF_WEEK          int64  \n",
      " 4   AIRLINE              object \n",
      " 5   FLIGHT_NUMBER        int64  \n",
      " 6   TAIL_NUMBER          object \n",
      " 7   ORIGIN_AIRPORT       object \n",
      " 8   DESTINATION_AIRPORT  object \n",
      " 9   SCHEDULED_DEPARTURE  int64  \n",
      " 10  DEPARTURE_TIME       float64\n",
      " 11  DEPARTURE_DELAY      float64\n",
      " 12  TAXI_OUT             float64\n",
      " 13  WHEELS_OFF           float64\n",
      " 14  SCHEDULED_TIME       float64\n",
      " 15  ELAPSED_TIME         float64\n",
      " 16  AIR_TIME             float64\n",
      " 17  DISTANCE             int64  \n",
      " 18  WHEELS_ON            float64\n",
      " 19  TAXI_IN              float64\n",
      " 20  SCHEDULED_ARRIVAL    int64  \n",
      " 21  ARRIVAL_TIME         float64\n",
      " 22  ARRIVAL_DELAY        float64\n",
      " 23  DIVERTED             int64  \n",
      " 24  CANCELLED            int64  \n",
      " 25  CANCELLATION_REASON  object \n",
      " 26  AIR_SYSTEM_DELAY     float64\n",
      " 27  SECURITY_DELAY       float64\n",
      " 28  AIRLINE_DELAY        float64\n",
      " 29  LATE_AIRCRAFT_DELAY  float64\n",
      " 30  WEATHER_DELAY        float64\n",
      "dtypes: float64(16), int64(10), object(5)\n",
      "memory usage: 1.3+ GB\n",
      "None\n"
     ]
    }
   ],
   "source": [
    "print(airports_df)\n",
    "print(flights_df.info())\n"
   ],
   "metadata": {
    "collapsed": false,
    "pycharm": {
     "name": "#%%\n"
    }
   }
  },
  {
   "cell_type": "markdown",
   "source": [
    "Data Cleaning"
   ],
   "metadata": {
    "collapsed": false
   }
  },
  {
   "cell_type": "code",
   "execution_count": 331,
   "outputs": [],
   "source": [
    "# Remove AK and Hawaii\n",
    "airports_df = airports_df[(airports_df['STATE'] != 'AK') | (airports_df['STATE'] != 'HI')]\n",
    "flights_df = flights_df.reset_index(drop=True)\n",
    "flights_df = flights_df[pd.to_numeric(flights_df['ORIGIN_AIRPORT'], errors='coerce').isna()]\n",
    "flights_df = flights_df[pd.to_numeric(flights_df['DESTINATION_AIRPORT'], errors='coerce').isna()]\n",
    "flights_df = flights_df.reset_index(drop=True)\n",
    "\n",
    "# Add count column\n",
    "flights_df = flights_df.groupby(['ORIGIN_AIRPORT', 'DESTINATION_AIRPORT']).size().reset_index(name=\"Count\")\n",
    "\n",
    "# Add airport information from airports_df to flights_df\n",
    "flights_df['ORIGIN_AIRPORT_Lat'] = flights_df['ORIGIN_AIRPORT'].map(airports_df.set_index('IATA_CODE')['LATITUDE'])\n",
    "flights_df['ORIGIN_AIRPORT_Long'] = flights_df['ORIGIN_AIRPORT'].map(airports_df.set_index('IATA_CODE')['LONGITUDE'])\n",
    "flights_df['DESTINATION_AIRPORT_Lat'] = flights_df['DESTINATION_AIRPORT'].map(airports_df.set_index('IATA_CODE')['LATITUDE'])\n",
    "flights_df['DESTINATION_AIRPORT_Long'] = flights_df['DESTINATION_AIRPORT'].map(airports_df.set_index('IATA_CODE')['LONGITUDE'])\n",
    "flights_df['State'] = flights_df['ORIGIN_AIRPORT'].map(airports_df.set_index('IATA_CODE')['STATE'])\n",
    "\n",
    "# Drop null values\n",
    "flights_df = flights_df.dropna()\n",
    "flights_df = flights_df.reset_index(drop=True)\n",
    "\n",
    "# Filter top 100 delays by Count\n",
    "flights_df = flights_df.sort_values('Count', ascending= False).head(100)\n",
    "flights_df = flights_df.reset_index(drop=True)\n",
    "\n",
    "# Find the top airport per state\n",
    "top_state = list(flights_df.groupby('State')['Count'].apply(lambda grp: grp.nlargest(1)))\n",
    "flights_df = flights_df[flights_df['Count'].isin(top_state)]\n",
    "\n",
    "# Normalize Count\n",
    "flights_df['Count'] = MinMaxScaler().fit_transform(flights_df[['Count']])"
   ],
   "metadata": {
    "collapsed": false,
    "pycharm": {
     "name": "#%%\n"
    }
   }
  },
  {
   "cell_type": "markdown",
   "metadata": {},
   "source": []
  },
  {
   "cell_type": "markdown",
   "source": [
    "Visualization"
   ],
   "metadata": {
    "collapsed": false
   }
  },
  {
   "cell_type": "code",
   "execution_count": 332,
   "outputs": [
    {
     "name": "stdout",
     "output_type": "stream",
     "text": [
      "-122.37484, 37.619, -118.40807, 33.94254\n",
      "-73.77893, 40.63975, -118.40807, 33.94254\n",
      "-115.15233, 36.08036, -118.40807, 33.94254\n",
      "-87.90446, 41.9796, -73.87261, 40.77724\n",
      "-156.43046, 20.89865, -157.92241, 21.31869\n",
      "-84.42694, 33.64044, -73.87261, 40.77724\n",
      "-84.42694, 33.64044, -81.31603, 28.42889\n",
      "-81.31603, 28.42889, -84.42694, 33.64044\n",
      "-115.15233, 36.08036, -122.37484, 37.619\n",
      "-97.0372, 32.89595, -87.90446, 41.9796\n",
      "-122.30931, 47.44898, -118.40807, 33.94254\n",
      "-71.00518, 42.36435, -77.03772, 38.85208\n",
      "-77.03772, 38.85208, -71.00518, 42.36435\n",
      "-112.00806, 33.43417, -118.40807, 33.94254\n",
      "-122.37484, 37.619, -87.90446, 41.9796\n",
      "-104.667, 39.85841, -112.00806, 33.43417\n",
      "-75.24114, 39.87195, -84.42694, 33.64044\n",
      "-149.99619, 61.17432, -122.30931, 47.44898\n",
      "-80.94313, 35.21401, -84.42694, 33.64044\n",
      "-95.27889, 29.64542, -96.85177, 32.84711\n",
      "-93.21692, 44.88055, -87.90446, 41.9796\n",
      "-111.97777, 40.78839, -104.667, 39.85841\n",
      "-76.6682, 39.1754, -84.42694, 33.64044\n",
      "-90.25803, 29.99339, -84.42694, 33.64044\n"
     ]
    },
    {
     "data": {
      "text/plain": "<Figure size 432x288 with 1 Axes>",
      "image/png": "[encoded data removed]"
     },
     "metadata": {},
     "output_type": "display_data"
    }
   ],
   "source": [
    "# create the map\n",
    "map = Basemap(llcrnrlon=-135,\n",
    "              llcrnrlat=22,\n",
    "              urcrnrlon=-62,\n",
    "              urcrnrlat=52,\n",
    "              projection='merc')\n",
    "\n",
    "# load the shapefile, use the name 'states'\n",
    "map.readshapefile('st99_d00', name='states', drawbounds=True)\n",
    "map.fillcontinents(color='grey', alpha=0.7, lake_color='grey')\n",
    "\n",
    "# Loop on every pair of cities to add the connection\n",
    "for row in flights_df.itertuples():\n",
    "    print(f\"{row.ORIGIN_AIRPORT_Long}, {row.ORIGIN_AIRPORT_Lat}, {row.DESTINATION_AIRPORT_Long}, {row.DESTINATION_AIRPORT_Lat}\")\n",
    "    map.drawgreatcircle(row.ORIGIN_AIRPORT_Long, row.ORIGIN_AIRPORT_Lat, row.DESTINATION_AIRPORT_Long, row.DESTINATION_AIRPORT_Lat, linewidth=3.0*row.Count, color='orange')\n",
    "    plt.annotate(row.ORIGIN_AIRPORT, xy=map(row.ORIGIN_AIRPORT_Long+0.3, row.ORIGIN_AIRPORT_Lat), verticalalignment='center', fontsize=6, color='Red')\n",
    "    map.scatter(row.ORIGIN_AIRPORT_Long, row.ORIGIN_AIRPORT_Lat, latlon=True, s=10, label=row.ORIGIN_AIRPORT)\n",
    "\n",
    "# Add plot elements, Save, and show\n",
    "plt.legend(ncol=4, bbox_to_anchor=(1, 1), prop={\"size\":5})\n",
    "plt.savefig(\"US_Delays\", dpi=1200, bbox_inches = 'tight')\n",
    "plt.show()"
   ],
   "metadata": {
    "collapsed": false,
    "pycharm": {
     "name": "#%%\n"
    }
   }
  }
 ],
 "metadata": {
  "kernelspec": {
   "display_name": "Python 3 (ipykernel)",
   "language": "python",
   "name": "python3"
  },
  "language_info": {
   "codemirror_mode": {
    "name": "ipython",
    "version": 3
   },
   "file_extension": ".py",
   "mimetype": "text/x-python",
   "name": "python",
   "nbconvert_exporter": "python",
   "pygments_lexer": "ipython3",
   "version": "3.10.1"
  }
 },
 "nbformat": 4,
 "nbformat_minor": 1
}